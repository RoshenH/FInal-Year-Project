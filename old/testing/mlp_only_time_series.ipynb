{
 "cells": [
  {
   "cell_type": "code",
   "execution_count": 1,
   "metadata": {},
   "outputs": [
    {
     "name": "stdout",
     "output_type": "stream",
     "text": [
      "✅ Data shape: Train (1128, 512), Test (283, 512)\n"
     ]
    }
   ],
   "source": [
    "import numpy as np\n",
    "import pandas as pd\n",
    "from sklearn.model_selection import train_test_split\n",
    "from sklearn.preprocessing import StandardScaler\n",
    "\n",
    "# Load flux sequences\n",
    "flux_sequences = np.load(r\"C:\\Users\\Roshen Hasangha\\Desktop\\dataset\\flux_sequences.npy\", allow_pickle=True)\n",
    "flux_kepler_ids = np.load(r\"C:\\Users\\Roshen Hasangha\\Desktop\\dataset\\flux_kepler_ids.npy\")\n",
    "\n",
    "merged_df = pd.read_csv(r\"C:\\Users\\Roshen Hasangha\\Desktop\\dataset\\final_multimodal_dataset.csv\")\n",
    "\n",
    "id_to_seq = {k: np.array(seq) for k, seq in zip(flux_kepler_ids, flux_sequences)}\n",
    "\n",
    "matched_seqs, matched_labels = [], []\n",
    "for _, row in merged_df.iterrows():\n",
    "    kepler_id = row['Kepler_ID']\n",
    "    if kepler_id in id_to_seq and len(id_to_seq[kepler_id]) == 512:\n",
    "        matched_seqs.append(id_to_seq[kepler_id])\n",
    "        matched_labels.append(row['label'])\n",
    "\n",
    "X_seq = np.array(matched_seqs, dtype=np.float32)\n",
    "y = np.array(matched_labels)\n",
    "\n",
    "# Standardize flux data (critical for MLP)\n",
    "scaler_flux = StandardScaler()\n",
    "X_seq_scaled = scaler_flux.fit_transform(X_seq)\n",
    "\n",
    "# Train-test split (80-20)\n",
    "X_train, X_test, y_train, y_test = train_test_split(\n",
    "    X_seq_scaled, y, test_size=0.2, random_state=42, stratify=y\n",
    ")\n",
    "\n",
    "print(f\"✅ Data shape: Train {X_train.shape}, Test {X_test.shape}\")\n"
   ]
  },
  {
   "cell_type": "code",
   "execution_count": 2,
   "metadata": {},
   "outputs": [
    {
     "name": "stdout",
     "output_type": "stream",
     "text": [
      "WARNING:tensorflow:From c:\\Users\\Roshen Hasangha\\AppData\\Local\\Programs\\Python\\Python311\\Lib\\site-packages\\keras\\src\\losses.py:2976: The name tf.losses.sparse_softmax_cross_entropy is deprecated. Please use tf.compat.v1.losses.sparse_softmax_cross_entropy instead.\n",
      "\n",
      "WARNING:tensorflow:From c:\\Users\\Roshen Hasangha\\AppData\\Local\\Programs\\Python\\Python311\\Lib\\site-packages\\keras\\src\\backend.py:873: The name tf.get_default_graph is deprecated. Please use tf.compat.v1.get_default_graph instead.\n",
      "\n",
      "WARNING:tensorflow:From c:\\Users\\Roshen Hasangha\\AppData\\Local\\Programs\\Python\\Python311\\Lib\\site-packages\\keras\\src\\optimizers\\__init__.py:309: The name tf.train.Optimizer is deprecated. Please use tf.compat.v1.train.Optimizer instead.\n",
      "\n",
      "Model: \"sequential\"\n",
      "_________________________________________________________________\n",
      " Layer (type)                Output Shape              Param #   \n",
      "=================================================================\n",
      " dense (Dense)               (None, 128)               65664     \n",
      "                                                                 \n",
      " dropout (Dropout)           (None, 128)               0         \n",
      "                                                                 \n",
      " dense_1 (Dense)             (None, 64)                8256      \n",
      "                                                                 \n",
      " dropout_1 (Dropout)         (None, 64)                0         \n",
      "                                                                 \n",
      " dense_2 (Dense)             (None, 32)                2080      \n",
      "                                                                 \n",
      " dense_3 (Dense)             (None, 1)                 33        \n",
      "                                                                 \n",
      "=================================================================\n",
      "Total params: 76033 (297.00 KB)\n",
      "Trainable params: 76033 (297.00 KB)\n",
      "Non-trainable params: 0 (0.00 Byte)\n",
      "_________________________________________________________________\n"
     ]
    }
   ],
   "source": [
    "import tensorflow as tf\n",
    "\n",
    "def build_mlp_model(input_shape):\n",
    "    model = tf.keras.Sequential([\n",
    "        tf.keras.layers.Dense(128, activation='relu', input_shape=(input_shape,)),\n",
    "        tf.keras.layers.Dropout(0.3),\n",
    "        tf.keras.layers.Dense(64, activation='relu'),\n",
    "        tf.keras.layers.Dropout(0.3),\n",
    "        tf.keras.layers.Dense(32, activation='relu'),\n",
    "        tf.keras.layers.Dense(1, activation='sigmoid')\n",
    "    ])\n",
    "\n",
    "    model.compile(optimizer='adam', loss='binary_crossentropy', metrics=['accuracy'])\n",
    "    return model\n",
    "\n",
    "model_mlp_flux = build_mlp_model(X_train.shape[1])\n",
    "model_mlp_flux.summary()\n"
   ]
  },
  {
   "cell_type": "code",
   "execution_count": 13,
   "metadata": {},
   "outputs": [
    {
     "name": "stdout",
     "output_type": "stream",
     "text": [
      "Epoch 1/25\n",
      "29/29 [==============================] - 0s 5ms/step - loss: 0.6747 - accuracy: 0.5588 - val_loss: 0.6776 - val_accuracy: 0.5177\n",
      "Epoch 2/25\n",
      "29/29 [==============================] - 0s 3ms/step - loss: 0.6565 - accuracy: 0.5732 - val_loss: 0.6913 - val_accuracy: 0.5265\n",
      "Epoch 3/25\n",
      "29/29 [==============================] - 0s 4ms/step - loss: 0.6716 - accuracy: 0.5466 - val_loss: 0.6768 - val_accuracy: 0.5310\n",
      "Epoch 4/25\n",
      "29/29 [==============================] - 0s 4ms/step - loss: 0.6665 - accuracy: 0.5643 - val_loss: 0.6833 - val_accuracy: 0.5398\n",
      "Epoch 5/25\n",
      "29/29 [==============================] - 0s 4ms/step - loss: 0.6617 - accuracy: 0.5865 - val_loss: 0.6795 - val_accuracy: 0.5000\n",
      "Epoch 6/25\n",
      "29/29 [==============================] - 0s 4ms/step - loss: 0.6577 - accuracy: 0.5698 - val_loss: 0.6802 - val_accuracy: 0.5221\n"
     ]
    }
   ],
   "source": [
    "history_mlp_flux = model_mlp_flux.fit(\n",
    "    X_train, y_train,\n",
    "    validation_split=0.2,\n",
    "    epochs=25,\n",
    "    batch_size=32,\n",
    "    callbacks=[tf.keras.callbacks.EarlyStopping(patience=3, restore_best_weights=True)]\n",
    ")\n"
   ]
  }
 ],
 "metadata": {
  "kernelspec": {
   "display_name": "Python 3",
   "language": "python",
   "name": "python3"
  },
  "language_info": {
   "codemirror_mode": {
    "name": "ipython",
    "version": 3
   },
   "file_extension": ".py",
   "mimetype": "text/x-python",
   "name": "python",
   "nbconvert_exporter": "python",
   "pygments_lexer": "ipython3",
   "version": "3.11.4"
  }
 },
 "nbformat": 4,
 "nbformat_minor": 2
}
