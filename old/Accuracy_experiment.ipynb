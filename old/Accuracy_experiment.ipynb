{
 "cells": [
  {
   "cell_type": "markdown",
   "metadata": {},
   "source": [
    "Data-Size vs Accuracy Experiment"
   ]
  },
  {
   "cell_type": "code",
   "execution_count": 2,
   "metadata": {},
   "outputs": [],
   "source": [
    "import numpy as np\n",
    "import pandas as pd\n",
    "import matplotlib.pyplot as plt\n",
    "from sklearn.model_selection import train_test_split\n",
    "from sklearn.preprocessing import StandardScaler\n",
    "import tensorflow as tf\n"
   ]
  },
  {
   "cell_type": "code",
   "execution_count": 3,
   "metadata": {},
   "outputs": [
    {
     "name": "stdout",
     "output_type": "stream",
     "text": [
      "✅ Loaded and matched 1411 samples.\n"
     ]
    }
   ],
   "source": [
    "# Load flux sequences\n",
    "flux_sequences = np.load(\"flux_sequences.npy\")\n",
    "flux_kepler_ids = np.load(\"flux_kepler_ids.npy\")\n",
    "\n",
    "# Load multimodal dataset\n",
    "merged_df = pd.read_csv(\"final_multimodal_dataset.csv\")\n",
    "\n",
    "# Match sequences to multimodal data\n",
    "id_to_seq = {k: seq for k, seq in zip(flux_kepler_ids, flux_sequences)}\n",
    "\n",
    "matched_seqs, matched_tabular, matched_labels = [], [], []\n",
    "tabular_features = ['koi_steff', 'koi_slogg', 'koi_srad', 'koi_prad', 'koi_score', 'koi_period']\n",
    "\n",
    "for _, row in merged_df.iterrows():\n",
    "    kepler_id = row['Kepler_ID']\n",
    "    if kepler_id in id_to_seq:\n",
    "        matched_seqs.append(id_to_seq[kepler_id])\n",
    "        matched_tabular.append(row[tabular_features].values)\n",
    "        matched_labels.append(row['label'])\n",
    "\n",
    "X_seq = np.array(matched_seqs)\n",
    "X_tab = np.array(matched_tabular)\n",
    "y = np.array(matched_labels)\n",
    "\n",
    "# Scale tabular data\n",
    "scaler_tab = StandardScaler()\n",
    "X_tab_scaled = scaler_tab.fit_transform(X_tab)\n",
    "\n",
    "print(f\"✅ Loaded and matched {len(X_seq)} samples.\")\n"
   ]
  },
  {
   "cell_type": "code",
   "execution_count": 4,
   "metadata": {},
   "outputs": [],
   "source": [
    "def build_transformer_tabular_model(seq_shape, tab_shape):\n",
    "    seq_input = tf.keras.Input(shape=(seq_shape, 1))\n",
    "    x_seq = tf.keras.layers.LayerNormalization()(seq_input)\n",
    "    x_seq = tf.keras.layers.MultiHeadAttention(num_heads=2, key_dim=64)(x_seq, x_seq)\n",
    "    x_seq = tf.keras.layers.GlobalAveragePooling1D()(x_seq)\n",
    "\n",
    "    tab_input = tf.keras.Input(shape=(tab_shape,))\n",
    "    x_tab = tf.keras.layers.Dense(64, activation='relu')(tab_input)\n",
    "    x_tab = tf.keras.layers.Dropout(0.3)(x_tab)\n",
    "    x_tab = tf.keras.layers.Dense(32, activation='relu')(x_tab)\n",
    "\n",
    "    combined = tf.keras.layers.Concatenate()([x_seq, x_tab])\n",
    "    x = tf.keras.layers.Dense(64, activation='relu')(combined)\n",
    "    output = tf.keras.layers.Dense(1, activation='sigmoid')(x)\n",
    "\n",
    "    model = tf.keras.Model(inputs=[seq_input, tab_input], outputs=output)\n",
    "    model.compile(optimizer='adam', loss='binary_crossentropy', metrics=['accuracy'])\n",
    "    return model\n"
   ]
  },
  {
   "cell_type": "code",
   "execution_count": 7,
   "metadata": {},
   "outputs": [
    {
     "name": "stdout",
     "output_type": "stream",
     "text": [
      "\n",
      "🚀 Training with 25% of data\n",
      "Epoch 1/15\n",
      "7/7 [==============================] - 3s 202ms/step - loss: 0.6537 - accuracy: 0.6473 - val_loss: 0.5892 - val_accuracy: 0.9123\n",
      "Epoch 2/15\n",
      "7/7 [==============================] - 1s 165ms/step - loss: 0.6017 - accuracy: 0.8527 - val_loss: 0.5265 - val_accuracy: 1.0000\n",
      "Epoch 3/15\n",
      "7/7 [==============================] - 1s 167ms/step - loss: 0.5478 - accuracy: 0.9286 - val_loss: 0.4508 - val_accuracy: 1.0000\n",
      "Epoch 4/15\n",
      "7/7 [==============================] - 1s 185ms/step - loss: 0.4579 - accuracy: 0.9509 - val_loss: 0.3638 - val_accuracy: 1.0000\n",
      "Epoch 5/15\n",
      "7/7 [==============================] - 1s 179ms/step - loss: 0.3896 - accuracy: 0.9688 - val_loss: 0.2697 - val_accuracy: 1.0000\n",
      "Epoch 6/15\n",
      "7/7 [==============================] - 1s 180ms/step - loss: 0.2948 - accuracy: 0.9688 - val_loss: 0.1907 - val_accuracy: 1.0000\n",
      "Epoch 7/15\n",
      "7/7 [==============================] - 1s 173ms/step - loss: 0.2134 - accuracy: 0.9821 - val_loss: 0.1275 - val_accuracy: 1.0000\n",
      "Epoch 8/15\n",
      "7/7 [==============================] - 1s 177ms/step - loss: 0.1417 - accuracy: 0.9821 - val_loss: 0.0811 - val_accuracy: 1.0000\n",
      "Epoch 9/15\n",
      "7/7 [==============================] - 1s 182ms/step - loss: 0.1034 - accuracy: 0.9866 - val_loss: 0.0593 - val_accuracy: 1.0000\n",
      "Epoch 10/15\n",
      "7/7 [==============================] - 1s 167ms/step - loss: 0.0772 - accuracy: 0.9866 - val_loss: 0.0453 - val_accuracy: 1.0000\n",
      "Epoch 11/15\n",
      "7/7 [==============================] - 1s 170ms/step - loss: 0.0781 - accuracy: 0.9777 - val_loss: 0.0410 - val_accuracy: 1.0000\n",
      "Epoch 12/15\n",
      "7/7 [==============================] - 1s 176ms/step - loss: 0.0570 - accuracy: 0.9777 - val_loss: 0.0295 - val_accuracy: 1.0000\n",
      "Epoch 13/15\n",
      "7/7 [==============================] - 1s 173ms/step - loss: 0.0522 - accuracy: 0.9821 - val_loss: 0.0241 - val_accuracy: 1.0000\n",
      "Epoch 14/15\n",
      "7/7 [==============================] - 1s 171ms/step - loss: 0.0636 - accuracy: 0.9777 - val_loss: 0.0359 - val_accuracy: 1.0000\n",
      "Epoch 15/15\n",
      "7/7 [==============================] - 1s 196ms/step - loss: 0.0481 - accuracy: 0.9866 - val_loss: 0.0332 - val_accuracy: 1.0000\n",
      "✅ Accuracy (25% data): 0.9718\n",
      "\n",
      "🚀 Training with 75% of data\n",
      "Epoch 1/15\n",
      "22/22 [==============================] - 5s 172ms/step - loss: 0.5750 - accuracy: 0.8743 - val_loss: 0.4340 - val_accuracy: 0.9647\n",
      "Epoch 2/15\n",
      "22/22 [==============================] - 3s 155ms/step - loss: 0.3251 - accuracy: 0.9645 - val_loss: 0.1938 - val_accuracy: 0.9824\n",
      "Epoch 3/15\n",
      "22/22 [==============================] - 3s 156ms/step - loss: 0.1399 - accuracy: 0.9763 - val_loss: 0.0893 - val_accuracy: 0.9824\n",
      "Epoch 4/15\n",
      "22/22 [==============================] - 3s 155ms/step - loss: 0.0712 - accuracy: 0.9837 - val_loss: 0.0757 - val_accuracy: 0.9765\n",
      "Epoch 5/15\n",
      "22/22 [==============================] - 3s 154ms/step - loss: 0.0625 - accuracy: 0.9778 - val_loss: 0.0837 - val_accuracy: 0.9765\n",
      "Epoch 6/15\n",
      "22/22 [==============================] - 3s 157ms/step - loss: 0.0571 - accuracy: 0.9822 - val_loss: 0.0937 - val_accuracy: 0.9706\n",
      "✅ Accuracy (75% data): 0.9906\n",
      "\n",
      "🚀 Training with 100% of data\n",
      "Epoch 1/15\n",
      "29/29 [==============================] - 6s 169ms/step - loss: 0.5906 - accuracy: 0.8115 - val_loss: 0.4305 - val_accuracy: 0.9690\n",
      "Epoch 2/15\n",
      "29/29 [==============================] - 5s 156ms/step - loss: 0.2742 - accuracy: 0.9701 - val_loss: 0.1190 - val_accuracy: 0.9867\n",
      "Epoch 3/15\n",
      "29/29 [==============================] - 5s 175ms/step - loss: 0.0916 - accuracy: 0.9834 - val_loss: 0.0554 - val_accuracy: 0.9912\n",
      "Epoch 4/15\n",
      "29/29 [==============================] - 5s 175ms/step - loss: 0.0654 - accuracy: 0.9856 - val_loss: 0.0484 - val_accuracy: 0.9867\n",
      "Epoch 5/15\n",
      "29/29 [==============================] - 5s 167ms/step - loss: 0.0660 - accuracy: 0.9834 - val_loss: 0.0549 - val_accuracy: 0.9867\n",
      "Epoch 6/15\n",
      "29/29 [==============================] - 5s 174ms/step - loss: 0.0588 - accuracy: 0.9823 - val_loss: 0.0560 - val_accuracy: 0.9823\n",
      "✅ Accuracy (100% data): 0.9823\n"
     ]
    }
   ],
   "source": [
    "data_sizes = [0.25, 0.75, 1.0]\n",
    "accuracies = []\n",
    "\n",
    "for size in data_sizes:\n",
    "    print(f\"\\n🚀 Training with {int(size*100)}% of data\")\n",
    "\n",
    "    if size < 1.0:\n",
    "        # Subsample data\n",
    "        X_seq_sub, _, X_tab_sub, _, y_sub, _ = train_test_split(\n",
    "            X_seq, X_tab_scaled, y, train_size=size, random_state=42, stratify=y\n",
    "        )\n",
    "    else:\n",
    "        # Use entire dataset if size is 1.0\n",
    "        X_seq_sub, X_tab_sub, y_sub = X_seq, X_tab_scaled, y\n",
    "\n",
    "    # Split into train-test (80-20)\n",
    "    X_seq_train, X_seq_test, X_tab_train, X_tab_test, y_train, y_test = train_test_split(\n",
    "        X_seq_sub, X_tab_sub, y_sub, test_size=0.2, random_state=42, stratify=y_sub\n",
    "    )\n",
    "\n",
    "    # Build and train model\n",
    "    model = build_transformer_tabular_model(X_seq_train.shape[1], X_tab_train.shape[1])\n",
    "\n",
    "    history = model.fit(\n",
    "        [X_seq_train[..., np.newaxis], X_tab_train], y_train,\n",
    "        validation_split=0.2,\n",
    "        epochs=15,  # adjust if needed\n",
    "        batch_size=32,\n",
    "        callbacks=[tf.keras.callbacks.EarlyStopping(patience=2, restore_best_weights=True)],\n",
    "        verbose=1\n",
    "    )\n",
    "\n",
    "    # Evaluate accuracy\n",
    "    loss, accuracy = model.evaluate([X_seq_test[..., np.newaxis], X_tab_test], y_test, verbose=0)\n",
    "    accuracies.append(accuracy)\n",
    "    print(f\"✅ Accuracy ({int(size*100)}% data): {accuracy:.4f}\")\n"
   ]
  },
  {
   "cell_type": "code",
   "execution_count": 8,
   "metadata": {},
   "outputs": [
    {
     "data": {
      "image/png": "[encoded data removed]",
      "text/plain": [
       "<Figure size 800x500 with 1 Axes>"
      ]
     },
     "metadata": {},
     "output_type": "display_data"
    }
   ],
   "source": [
    "sizes = [25, 75, 100]\n",
    "accuracies = [0.9718, 0.9906, 0.9823]\n",
    "\n",
    "plt.figure(figsize=(8, 5))\n",
    "plt.plot(sizes, accuracies, marker='o', linestyle='-', color='blue')\n",
    "\n",
    "for size, acc in zip(sizes, accuracies):\n",
    "    plt.text(size, acc, f\"{acc:.2%}\", fontsize=12, ha='center', va='bottom')\n",
    "\n",
    "plt.title(\"Model Accuracy vs. Dataset Size\")\n",
    "plt.xlabel(\"Dataset Size (%)\")\n",
    "plt.ylabel(\"Accuracy\")\n",
    "plt.ylim([0.95, 1.0])\n",
    "plt.xticks(sizes)\n",
    "plt.grid(True)\n",
    "plt.show()\n"
   ]
  }
 ],
 "metadata": {
  "kernelspec": {
   "display_name": "Python 3",
   "language": "python",
   "name": "python3"
  },
  "language_info": {
   "codemirror_mode": {
    "name": "ipython",
    "version": 3
   },
   "file_extension": ".py",
   "mimetype": "text/x-python",
   "name": "python",
   "nbconvert_exporter": "python",
   "pygments_lexer": "ipython3",
   "version": "3.11.4"
  }
 },
 "nbformat": 4,
 "nbformat_minor": 2
}
